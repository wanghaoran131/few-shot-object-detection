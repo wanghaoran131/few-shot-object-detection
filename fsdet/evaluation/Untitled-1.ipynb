{
 "cells": [
  {
   "cell_type": "code",
   "execution_count": 9,
   "metadata": {},
   "outputs": [],
   "source": [
    "from lvis import LVIS\n",
    "from lvis import LVISResults\n",
    "import os\n",
    "import sys\n",
    "# add parent path to sys.path\n",
    "sys.path.append(\"/Users/whr/Documents/Thesis/few-shot-object-detection/fsdet\")\n",
    "\n",
    "from utils.file_io import PathManager\n",
    "\n",
    "from pycocotools.coco import COCO\n",
    "from pycocotools.cocoeval import COCOeval\n",
    "\n",
    "import datetime\n",
    "import logging\n",
    "from collections import OrderedDict\n",
    "from collections import defaultdict\n",
    "\n",
    "import numpy as np\n",
    "\n",
    "from lvis.lvis import LVIS\n",
    "from lvis.results import LVISResults\n",
    "\n",
    "import pycocotools.mask as mask_utils"
   ]
  },
  {
   "cell_type": "code",
   "execution_count": 3,
   "metadata": {},
   "outputs": [],
   "source": [
    "json_file = PathManager.get_local_path(\"../../datasets/lvissplit/lvis_shots.json\")\n",
    "gt_data = LVIS(json_file)"
   ]
  },
  {
   "cell_type": "code",
   "execution_count": 8,
   "metadata": {},
   "outputs": [
    {
     "data": {
      "text/plain": [
       "{'name': 'aerosol_can',\n",
       " 'instance_count': 109,\n",
       " 'def': 'a dispenser that holds a substance under pressure',\n",
       " 'synonyms': ['aerosol_can', 'spray_can'],\n",
       " 'image_count': 64,\n",
       " 'id': 1,\n",
       " 'frequency': 'c',\n",
       " 'synset': 'aerosol.n.02'}"
      ]
     },
     "execution_count": 8,
     "metadata": {},
     "output_type": "execute_result"
    }
   ],
   "source": [
    "# info, licenses, categories, images, annotations = gt_data.dataset\n",
    "# categories: name, instance_count, def, synonyms, image_count, id, frequency, synset\n",
    "# annotations: bbox, category_id, image_id, id, segmentation\n",
    "gt_data.dataset['categories'][0]"
   ]
  },
  {
   "cell_type": "code",
   "execution_count": 10,
   "metadata": {},
   "outputs": [
    {
     "name": "stdout",
     "output_type": "stream",
     "text": [
      "loading annotations into memory...\n",
      "Done (t=1.65s)\n",
      "creating index...\n",
      "index created!\n"
     ]
    }
   ],
   "source": [
    "coco_gt = COCO(json_file)"
   ]
  },
  {
   "cell_type": "code",
   "execution_count": 13,
   "metadata": {},
   "outputs": [],
   "source": [
    "import json\n",
    "\n",
    "\n",
    "gt_path = \"../../datasets/children_books/annotations/test_annotations.json\"\n",
    "coco_prediction_path = \"../../datasets/coco_instances_results.json\"\n",
    "\n",
    "# read json file\n",
    "with open(gt_path, 'r') as f:\n",
    "    gt_data = json.load(f)\n",
    "\n",
    "with open(coco_prediction_path, 'r') as f:\n",
    "    coco_data = json.load(f)\n"
   ]
  },
  {
   "cell_type": "code",
   "execution_count": 21,
   "metadata": {},
   "outputs": [],
   "source": [
    "gt_annotations = gt_data[\"annotations\"]"
   ]
  },
  {
   "cell_type": "code",
   "execution_count": 18,
   "metadata": {},
   "outputs": [
    {
     "data": {
      "text/plain": [
       "{'image_id': 0,\n",
       " 'category_id': 89,\n",
       " 'bbox': [138.36624145507812,\n",
       "  211.5009002685547,\n",
       "  63.24208068847656,\n",
       "  116.61369323730469],\n",
       " 'score': 0.9910997748374939}"
      ]
     },
     "execution_count": 18,
     "metadata": {},
     "output_type": "execute_result"
    }
   ],
   "source": [
    "coco_data[0]"
   ]
  },
  {
   "cell_type": "code",
   "execution_count": 22,
   "metadata": {},
   "outputs": [
    {
     "data": {
      "text/plain": [
       "{'id': 0,\n",
       " 'image_id': 0,\n",
       " 'category_id': 90,\n",
       " 'bbox': [141, 219, 53, 70],\n",
       " 'area': 3710,\n",
       " 'segmentation': [],\n",
       " 'iscrowd': 0}"
      ]
     },
     "execution_count": 22,
     "metadata": {},
     "output_type": "execute_result"
    }
   ],
   "source": [
    "gt_annotations[0]"
   ]
  },
  {
   "cell_type": "code",
   "execution_count": 23,
   "metadata": {},
   "outputs": [
    {
     "name": "stdout",
     "output_type": "stream",
     "text": [
      "27 31\n",
      "29 49\n",
      "54 105\n",
      "92 175\n",
      "164 311\n",
      "299 612\n",
      "397 770\n",
      "492 964\n",
      "640 1215\n",
      "649 1225\n",
      "731 1327\n",
      "836 1540\n",
      "972 1830\n",
      "984 1856\n",
      "1021 1898\n",
      "1040 1925\n",
      "1041 1925\n",
      "1042 1925\n",
      "1043 1925\n",
      "1044 1925\n",
      "1045 1925\n",
      "1055 1950\n",
      "1174 2134\n"
     ]
    }
   ],
   "source": [
    "# find the index with the same image_id and category_id\n",
    "for i in range(len(gt_annotations)):\n",
    "    for j in range(len(coco_data)):\n",
    "        if gt_annotations[i][\"image_id\"] == coco_data[j][\"image_id\"] and gt_annotations[i][\"category_id\"] == coco_data[j][\"category_id\"]:\n",
    "            print(i, j)\n",
    "            break\n"
   ]
  },
  {
   "cell_type": "code",
   "execution_count": 24,
   "metadata": {},
   "outputs": [
    {
     "data": {
      "text/plain": [
       "{'id': 27,\n",
       " 'image_id': 4,\n",
       " 'category_id': 45,\n",
       " 'bbox': [13, 176, 137, 151],\n",
       " 'area': 20687,\n",
       " 'segmentation': [],\n",
       " 'iscrowd': 0}"
      ]
     },
     "execution_count": 24,
     "metadata": {},
     "output_type": "execute_result"
    }
   ],
   "source": [
    "gt_annotations[27]"
   ]
  },
  {
   "cell_type": "code",
   "execution_count": 26,
   "metadata": {},
   "outputs": [
    {
     "data": {
      "text/plain": [
       "{'image_id': 4,\n",
       " 'category_id': 45,\n",
       " 'bbox': [41.29137420654297,\n",
       "  202.45126342773438,\n",
       "  130.23748779296875,\n",
       "  159.10983276367188],\n",
       " 'score': 0.5064326524734497}"
      ]
     },
     "execution_count": 26,
     "metadata": {},
     "output_type": "execute_result"
    }
   ],
   "source": [
    "coco_data[31]"
   ]
  },
  {
   "cell_type": "code",
   "execution_count": 27,
   "metadata": {},
   "outputs": [
    {
     "data": {
      "text/plain": [
       "1216"
      ]
     },
     "execution_count": 27,
     "metadata": {},
     "output_type": "execute_result"
    }
   ],
   "source": [
    "len(gt_annotations)"
   ]
  },
  {
   "cell_type": "code",
   "execution_count": 28,
   "metadata": {},
   "outputs": [
    {
     "data": {
      "text/plain": [
       "2226"
      ]
     },
     "execution_count": 28,
     "metadata": {},
     "output_type": "execute_result"
    }
   ],
   "source": [
    "len(coco_data)"
   ]
  },
  {
   "cell_type": "code",
   "execution_count": null,
   "metadata": {},
   "outputs": [],
   "source": []
  }
 ],
 "metadata": {
  "kernelspec": {
   "display_name": "detectron",
   "language": "python",
   "name": "python3"
  },
  "language_info": {
   "codemirror_mode": {
    "name": "ipython",
    "version": 3
   },
   "file_extension": ".py",
   "mimetype": "text/x-python",
   "name": "python",
   "nbconvert_exporter": "python",
   "pygments_lexer": "ipython3",
   "version": "3.8.16"
  },
  "orig_nbformat": 4
 },
 "nbformat": 4,
 "nbformat_minor": 2
}
