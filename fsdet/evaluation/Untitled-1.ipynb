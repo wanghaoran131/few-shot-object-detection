{
 "cells": [
  {
   "cell_type": "code",
   "execution_count": 9,
   "metadata": {},
   "outputs": [],
   "source": [
    "from lvis import LVIS\n",
    "from lvis import LVISResults\n",
    "import os\n",
    "import sys\n",
    "# add parent path to sys.path\n",
    "sys.path.append(\"/Users/whr/Documents/Thesis/few-shot-object-detection/fsdet\")\n",
    "\n",
    "from utils.file_io import PathManager\n",
    "\n",
    "from pycocotools.coco import COCO\n",
    "from pycocotools.cocoeval import COCOeval\n",
    "\n",
    "import datetime\n",
    "import logging\n",
    "from collections import OrderedDict\n",
    "from collections import defaultdict\n",
    "\n",
    "import numpy as np\n",
    "\n",
    "from lvis.lvis import LVIS\n",
    "from lvis.results import LVISResults\n",
    "\n",
    "import pycocotools.mask as mask_utils"
   ]
  },
  {
   "cell_type": "code",
   "execution_count": 3,
   "metadata": {},
   "outputs": [],
   "source": [
    "json_file = PathManager.get_local_path(\"../../datasets/lvissplit/lvis_shots.json\")\n",
    "gt_data = LVIS(json_file)"
   ]
  },
  {
   "cell_type": "code",
   "execution_count": 8,
   "metadata": {},
   "outputs": [
    {
     "data": {
      "text/plain": [
       "{'name': 'aerosol_can',\n",
       " 'instance_count': 109,\n",
       " 'def': 'a dispenser that holds a substance under pressure',\n",
       " 'synonyms': ['aerosol_can', 'spray_can'],\n",
       " 'image_count': 64,\n",
       " 'id': 1,\n",
       " 'frequency': 'c',\n",
       " 'synset': 'aerosol.n.02'}"
      ]
     },
     "execution_count": 8,
     "metadata": {},
     "output_type": "execute_result"
    }
   ],
   "source": [
    "# info, licenses, categories, images, annotations = gt_data.dataset\n",
    "# categories: name, instance_count, def, synonyms, image_count, id, frequency, synset\n",
    "# annotations: bbox, category_id, image_id, id, segmentation\n",
    "gt_data.dataset['categories'][0]"
   ]
  },
  {
   "cell_type": "code",
   "execution_count": 10,
   "metadata": {},
   "outputs": [
    {
     "name": "stdout",
     "output_type": "stream",
     "text": [
      "loading annotations into memory...\n",
      "Done (t=1.65s)\n",
      "creating index...\n",
      "index created!\n"
     ]
    }
   ],
   "source": [
    "coco_gt = COCO(json_file)"
   ]
  },
  {
   "cell_type": "code",
   "execution_count": null,
   "metadata": {},
   "outputs": [],
   "source": []
  }
 ],
 "metadata": {
  "kernelspec": {
   "display_name": "detectron",
   "language": "python",
   "name": "python3"
  },
  "language_info": {
   "codemirror_mode": {
    "name": "ipython",
    "version": 3
   },
   "file_extension": ".py",
   "mimetype": "text/x-python",
   "name": "python",
   "nbconvert_exporter": "python",
   "pygments_lexer": "ipython3",
   "version": "3.8.16"
  },
  "orig_nbformat": 4
 },
 "nbformat": 4,
 "nbformat_minor": 2
}
